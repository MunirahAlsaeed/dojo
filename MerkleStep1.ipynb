{
 "cells": [
  {
   "cell_type": "code",
   "execution_count": 1,
   "id": "cross-extension",
   "metadata": {},
   "outputs": [],
   "source": [
    "import hashlib\n",
    "from collections import OrderedDict\n",
    "data = ['a','b','a','b']"
   ]
  },
  {
   "cell_type": "code",
   "execution_count": 2,
   "id": "frank-ordering",
   "metadata": {},
   "outputs": [
    {
     "data": {
      "text/plain": [
       "['a', 'b', 'a', 'b']"
      ]
     },
     "execution_count": 2,
     "metadata": {},
     "output_type": "execute_result"
    }
   ],
   "source": [
    "data"
   ]
  },
  {
   "cell_type": "code",
   "execution_count": 3,
   "id": "amber-mexico",
   "metadata": {},
   "outputs": [],
   "source": [
    "pastData = OrderedDict()"
   ]
  },
  {
   "cell_type": "code",
   "execution_count": 4,
   "id": "surgical-daniel",
   "metadata": {},
   "outputs": [],
   "source": [
    "currentHash =  hashlib.sha256(data[0].encode()).hexdigest()\n",
    "pastData[data[0]] = currentHash\n",
    "currentHash =  hashlib.sha256(data[1].encode()).hexdigest()\n",
    "pastData[data[1]] = currentHash"
   ]
  },
  {
   "cell_type": "code",
   "execution_count": 5,
   "id": "guided-pilot",
   "metadata": {},
   "outputs": [
    {
     "data": {
      "text/plain": [
       "'ca978112ca1bbdcafac231b39a23dc4da786eff8147c4e72b9807785afee48bb'"
      ]
     },
     "execution_count": 5,
     "metadata": {},
     "output_type": "execute_result"
    }
   ],
   "source": [
    "pastData[data[0]]"
   ]
  },
  {
   "cell_type": "code",
   "execution_count": 6,
   "id": "animal-china",
   "metadata": {},
   "outputs": [
    {
     "data": {
      "text/plain": [
       "'3e23e8160039594a33894f6564e1b1348bbd7a0088d42c4acb73eeaed59c009d'"
      ]
     },
     "execution_count": 6,
     "metadata": {},
     "output_type": "execute_result"
    }
   ],
   "source": [
    "pastData[data[1]]"
   ]
  },
  {
   "cell_type": "code",
   "execution_count": 7,
   "id": "known-humanitarian",
   "metadata": {},
   "outputs": [
    {
     "data": {
      "text/plain": [
       "OrderedDict([('a',\n",
       "              'ca978112ca1bbdcafac231b39a23dc4da786eff8147c4e72b9807785afee48bb'),\n",
       "             ('b',\n",
       "              '3e23e8160039594a33894f6564e1b1348bbd7a0088d42c4acb73eeaed59c009d')])"
      ]
     },
     "execution_count": 7,
     "metadata": {},
     "output_type": "execute_result"
    }
   ],
   "source": [
    "pastData"
   ]
  },
  {
   "cell_type": "code",
   "execution_count": 8,
   "id": "maritime-spread",
   "metadata": {},
   "outputs": [
    {
     "data": {
      "text/plain": [
       "'ca978112ca1bbdcafac231b39a23dc4da786eff8147c4e72b9807785afee48bb3e23e8160039594a33894f6564e1b1348bbd7a0088d42c4acb73eeaed59c009d'"
      ]
     },
     "execution_count": 8,
     "metadata": {},
     "output_type": "execute_result"
    }
   ],
   "source": [
    "hashed = pastData[data[0]] + pastData[data[1]]\n",
    "hashed"
   ]
  },
  {
   "cell_type": "code",
   "execution_count": 9,
   "id": "developing-blair",
   "metadata": {},
   "outputs": [],
   "source": [
    "h = hashlib.sha256(hashed.encode()).hexdigest()\n",
    "tem = []"
   ]
  },
  {
   "cell_type": "code",
   "execution_count": 10,
   "id": "demanding-standing",
   "metadata": {},
   "outputs": [],
   "source": [
    "tem.append(h )"
   ]
  },
  {
   "cell_type": "code",
   "execution_count": 11,
   "id": "jewish-culture",
   "metadata": {},
   "outputs": [
    {
     "data": {
      "text/plain": [
       "['62af5c3cb8da3e4f25061e829ebeea5c7513c54949115b1acc225930a90154da']"
      ]
     },
     "execution_count": 11,
     "metadata": {},
     "output_type": "execute_result"
    }
   ],
   "source": [
    "tem"
   ]
  },
  {
   "cell_type": "code",
   "execution_count": 12,
   "id": "included-tower",
   "metadata": {},
   "outputs": [],
   "source": [
    "text = ' Hello '"
   ]
  },
  {
   "cell_type": "code",
   "execution_count": 13,
   "id": "fifth-chocolate",
   "metadata": {},
   "outputs": [
    {
     "data": {
      "text/plain": [
       "'3fbd4161a2f0c54836d8d73e7037872e8d706b50c5cc6f1b884820b4cc4f29c9'"
      ]
     },
     "execution_count": 13,
     "metadata": {},
     "output_type": "execute_result"
    }
   ],
   "source": [
    "m = hashlib.sha256()                  ##there are other hashing algorithms\n",
    "m.update(text.encode())\n",
    "m.update(text.encode())                           ##multiple update() = concatenate of the text into a single update call\n",
    "m.hexdigest()"
   ]
  },
  {
   "cell_type": "code",
   "execution_count": 14,
   "id": "functional-swaziland",
   "metadata": {},
   "outputs": [
    {
     "data": {
      "text/plain": [
       "'3fbd4161a2f0c54836d8d73e7037872e8d706b50c5cc6f1b884820b4cc4f29c9'"
      ]
     },
     "execution_count": 14,
     "metadata": {},
     "output_type": "execute_result"
    }
   ],
   "source": [
    "hashlib.sha256(text.encode() + text.encode()).hexdigest() "
   ]
  },
  {
   "cell_type": "code",
   "execution_count": null,
   "id": "frank-housing",
   "metadata": {},
   "outputs": [],
   "source": []
  }
 ],
 "metadata": {
  "kernelspec": {
   "display_name": "Python 3",
   "language": "python",
   "name": "python3"
  },
  "language_info": {
   "codemirror_mode": {
    "name": "ipython",
    "version": 3
   },
   "file_extension": ".py",
   "mimetype": "text/x-python",
   "name": "python",
   "nbconvert_exporter": "python",
   "pygments_lexer": "ipython3",
   "version": "3.9.1"
  }
 },
 "nbformat": 4,
 "nbformat_minor": 5
}
