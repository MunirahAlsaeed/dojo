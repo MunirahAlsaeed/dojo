{
 "cells": [
  {
   "cell_type": "code",
   "execution_count": 1,
   "metadata": {},
   "outputs": [],
   "source": [
    "import hashlib\n",
    "from collections import OrderedDict\n",
    "data = ['a','b','a','b']"
   ]
  },
  {
   "cell_type": "markdown",
   "metadata": {},
   "source": [
    "Assume data is a list of tx"
   ]
  },
  {
   "cell_type": "code",
   "execution_count": 2,
   "metadata": {},
   "outputs": [
    {
     "data": {
      "text/plain": [
       "['a', 'b', 'a', 'b']"
      ]
     },
     "execution_count": 2,
     "metadata": {},
     "output_type": "execute_result"
    }
   ],
   "source": [
    "data"
   ]
  },
  {
   "cell_type": "code",
   "execution_count": 3,
   "metadata": {},
   "outputs": [],
   "source": [
    "pastData = OrderedDict()"
   ]
  },
  {
   "cell_type": "code",
   "execution_count": 4,
   "metadata": {},
   "outputs": [],
   "source": [
    "currentHash =  hashlib.sha256(data[0].encode()).hexdigest()\n",
    "pastData[data[0]] = currentHash\n",
    "currentHash =  hashlib.sha256(data[1].encode()).hexdigest()\n",
    "pastData[data[1]] = currentHash"
   ]
  },
  {
   "cell_type": "code",
   "execution_count": 5,
   "metadata": {},
   "outputs": [
    {
     "data": {
      "text/plain": [
       "'ca978112ca1bbdcafac231b39a23dc4da786eff8147c4e72b9807785afee48bb'"
      ]
     },
     "execution_count": 5,
     "metadata": {},
     "output_type": "execute_result"
    }
   ],
   "source": [
    "pastData[data[0]]"
   ]
  },
  {
   "cell_type": "code",
   "execution_count": 6,
   "metadata": {},
   "outputs": [
    {
     "data": {
      "text/plain": [
       "'3e23e8160039594a33894f6564e1b1348bbd7a0088d42c4acb73eeaed59c009d'"
      ]
     },
     "execution_count": 6,
     "metadata": {},
     "output_type": "execute_result"
    }
   ],
   "source": [
    "pastData[data[1]]"
   ]
  },
  {
   "cell_type": "code",
   "execution_count": 7,
   "metadata": {},
   "outputs": [
    {
     "data": {
      "text/plain": [
       "OrderedDict([('a',\n",
       "              'ca978112ca1bbdcafac231b39a23dc4da786eff8147c4e72b9807785afee48bb'),\n",
       "             ('b',\n",
       "              '3e23e8160039594a33894f6564e1b1348bbd7a0088d42c4acb73eeaed59c009d')])"
      ]
     },
     "execution_count": 7,
     "metadata": {},
     "output_type": "execute_result"
    }
   ],
   "source": [
    "pastData"
   ]
  },
  {
   "cell_type": "code",
   "execution_count": 8,
   "metadata": {},
   "outputs": [
    {
     "data": {
      "text/plain": [
       "'ca978112ca1bbdcafac231b39a23dc4da786eff8147c4e72b9807785afee48bb3e23e8160039594a33894f6564e1b1348bbd7a0088d42c4acb73eeaed59c009d'"
      ]
     },
     "execution_count": 8,
     "metadata": {},
     "output_type": "execute_result"
    }
   ],
   "source": [
    "hashed = pastData[data[0]] + pastData[data[1]]\n",
    "hashed"
   ]
  },
  {
   "cell_type": "code",
   "execution_count": 9,
   "metadata": {},
   "outputs": [],
   "source": [
    "h = hashlib.sha256(hashed.encode()).hexdigest()\n",
    "tem = []"
   ]
  },
  {
   "cell_type": "code",
   "execution_count": 10,
   "metadata": {},
   "outputs": [],
   "source": [
    "tem.append(h )"
   ]
  },
  {
   "cell_type": "code",
   "execution_count": 11,
   "metadata": {},
   "outputs": [
    {
     "data": {
      "text/plain": [
       "['62af5c3cb8da3e4f25061e829ebeea5c7513c54949115b1acc225930a90154da']"
      ]
     },
     "execution_count": 11,
     "metadata": {},
     "output_type": "execute_result"
    }
   ],
   "source": [
    "tem"
   ]
  },
  {
   "cell_type": "markdown",
   "metadata": {},
   "source": [
    "Example of useing update() multiple concatenate of the text into a single update call and + plus"
   ]
  },
  {
   "cell_type": "code",
   "execution_count": 12,
   "metadata": {},
   "outputs": [],
   "source": [
    "text = ' Hello '"
   ]
  },
  {
   "cell_type": "code",
   "execution_count": 13,
   "metadata": {},
   "outputs": [
    {
     "data": {
      "text/plain": [
       "'3fbd4161a2f0c54836d8d73e7037872e8d706b50c5cc6f1b884820b4cc4f29c9'"
      ]
     },
     "execution_count": 13,
     "metadata": {},
     "output_type": "execute_result"
    }
   ],
   "source": [
    "m = hashlib.sha256() \n",
    "m.update(text.encode())\n",
    "m.update(text.encode()) ## \n",
    "m.hexdigest()"
   ]
  },
  {
   "cell_type": "code",
   "execution_count": 14,
   "metadata": {},
   "outputs": [
    {
     "data": {
      "text/plain": [
       "'3fbd4161a2f0c54836d8d73e7037872e8d706b50c5cc6f1b884820b4cc4f29c9'"
      ]
     },
     "execution_count": 14,
     "metadata": {},
     "output_type": "execute_result"
    }
   ],
   "source": [
    "hashlib.sha256(text.encode() + text.encode()).hexdigest() "
   ]
  },
  {
   "cell_type": "markdown",
   "metadata": {},
   "source": [
    "Merkle tree is a binary tree with hash pointers \n",
    "Sorted: using some ordering function (e.g. Fees, Gas, alphabetical, lexicographical order, \n",
    "numerical order, or some other agreed upon ordering)."
   ]
  },
  {
   "cell_type": "code",
   "execution_count": 15,
   "metadata": {},
   "outputs": [],
   "source": [
    "from hashlib import sha256\n",
    "from collections import OrderedDict\n",
    "\n",
    "class MerkleNode:\n",
    "    def __init__(self, hashValue):\n",
    "        self.left = None\n",
    "        self.right = None\n",
    "        self.hashValue = hashValue\n",
    "\n",
    "\n",
    "class MerkleTree:\n",
    "\n",
    "    def __init__(self, transactions):\n",
    "\n",
    "        self.transactionHash = []\n",
    "        self.tx = OrderedDict()\n",
    "        self.level = OrderedDict()\n",
    "    \n",
    "        self.hashleaf(transactions)\n",
    "        self.root = self.merkleTree(self.transactionHash)\n",
    "\n",
    "    @staticmethod\n",
    "    def sha(data):\n",
    "        data = data.encode()\n",
    "        return sha256(data).hexdigest()\n",
    "\n",
    "    def hashleaf(self, transactions):\n",
    "        for data in transactions:\n",
    "            node = MerkleNode(self.sha(data))\n",
    "            self.transactionHash.append(node)\n",
    "            self.tx[data] = node\n",
    "\n",
    "    def merkleTree(self, transactionHash):\n",
    "        self.levelHash = []\n",
    "\n",
    "        num_leaves = len(transactionHash)\n",
    "        if num_leaves == 1:\n",
    "            return transactionHash[0]\n",
    "\n",
    "        i = 0\n",
    "        while i < num_leaves:\n",
    "            left = transactionHash[i]\n",
    "            right = transactionHash[i + 1] if i + 1 < num_leaves else left\n",
    "            self.levelHash.append(self.hashLevel(left, right))\n",
    "            self.level[i] = self.hashLevel(left, right)\n",
    "            i += 2\n",
    "\n",
    "        return self.merkleTree(self.levelHash)\n",
    "\n",
    "    def hashLevel(self, left, right):\n",
    "        level = MerkleNode(\n",
    "            self.sha(left.hashValue + right.hashValue))\n",
    "        level.left, level.right = left, right\n",
    "        left.level, right.level = level, level\n",
    "        return level"
   ]
  },
  {
   "cell_type": "code",
   "execution_count": null,
   "metadata": {},
   "outputs": [],
   "source": []
  },
  {
   "cell_type": "code",
   "execution_count": 16,
   "metadata": {},
   "outputs": [
    {
     "data": {
      "text/plain": [
       "'862532e6a3c9aafc2016810598ed0cc3025af5640db73224f586b6f1138385f4'"
      ]
     },
     "execution_count": 16,
     "metadata": {},
     "output_type": "execute_result"
    }
   ],
   "source": [
    "tree = MerkleTree(['0', '1', '2', '3'])\n",
    "tree.root.hashValue"
   ]
  },
  {
   "cell_type": "code",
   "execution_count": 17,
   "metadata": {},
   "outputs": [
    {
     "data": {
      "text/plain": [
       "'5feceb66ffc86f38d952786c6d696c79c2dbc239dd4e91b46729d73a27fb57e9'"
      ]
     },
     "execution_count": 17,
     "metadata": {},
     "output_type": "execute_result"
    }
   ],
   "source": [
    "tree.transactionHash[0].hashValue"
   ]
  },
  {
   "cell_type": "code",
   "execution_count": 18,
   "metadata": {},
   "outputs": [
    {
     "name": "stdout",
     "output_type": "stream",
     "text": [
      "5feceb66ffc86f38d952786c6d696c79c2dbc239dd4e91b46729d73a27fb57e9\n",
      "6b86b273ff34fce19d6b804eff5a3f5747ada4eaa22f1d49c01e52ddb7875b4b\n",
      "d4735e3a265e16eee03f59718b9b5d03019c07d8b6c51f90da3a666eec13ab35\n",
      "4e07408562bedb8b60ce05c1decfe3ad16b72230967de01f640b7e4729b49fce\n"
     ]
    }
   ],
   "source": [
    "for i in range(len(tree.transactionHash)):\n",
    "    print(tree.transactionHash[i].hashValue)"
   ]
  },
  {
   "cell_type": "code",
   "execution_count": 19,
   "metadata": {},
   "outputs": [
    {
     "name": "stdout",
     "output_type": "stream",
     "text": [
      "5feceb66ffc86f38d952786c6d696c79c2dbc239dd4e91b46729d73a27fb57e9\n",
      "6b86b273ff34fce19d6b804eff5a3f5747ada4eaa22f1d49c01e52ddb7875b4b\n",
      "d4735e3a265e16eee03f59718b9b5d03019c07d8b6c51f90da3a666eec13ab35\n",
      "4e07408562bedb8b60ce05c1decfe3ad16b72230967de01f640b7e4729b49fce\n"
     ]
    }
   ],
   "source": [
    "for i in tree.transactionHash:\n",
    "    print(i.hashValue)"
   ]
  },
  {
   "cell_type": "code",
   "execution_count": 20,
   "metadata": {},
   "outputs": [
    {
     "name": "stdout",
     "output_type": "stream",
     "text": [
      "0 5feceb66ffc86f38d952786c6d696c79c2dbc239dd4e91b46729d73a27fb57e9\n",
      "1 6b86b273ff34fce19d6b804eff5a3f5747ada4eaa22f1d49c01e52ddb7875b4b\n",
      "2 d4735e3a265e16eee03f59718b9b5d03019c07d8b6c51f90da3a666eec13ab35\n",
      "3 4e07408562bedb8b60ce05c1decfe3ad16b72230967de01f640b7e4729b49fce\n"
     ]
    }
   ],
   "source": [
    "for key, value in tree.tx.items():\n",
    "    print (key, value.hashValue)"
   ]
  },
  {
   "cell_type": "code",
   "execution_count": 21,
   "metadata": {},
   "outputs": [
    {
     "name": "stdout",
     "output_type": "stream",
     "text": [
      "0 fa13bb36c022a6943f37c638126a2c88fc8d008eb5a9fe8fcde17026807feae4\n",
      "1 fa13bb36c022a6943f37c638126a2c88fc8d008eb5a9fe8fcde17026807feae4\n",
      "2 70311d9d203b2d7e4ff70d7fce219f82a4fcf73a110dc80187dfefb7c6e4bb87\n",
      "3 70311d9d203b2d7e4ff70d7fce219f82a4fcf73a110dc80187dfefb7c6e4bb87\n"
     ]
    }
   ],
   "source": [
    "for key, value in tree.tx.items():\n",
    "    print (key, value.level.hashValue)"
   ]
  },
  {
   "cell_type": "code",
   "execution_count": 22,
   "metadata": {},
   "outputs": [
    {
     "name": "stdout",
     "output_type": "stream",
     "text": [
      "0 862532e6a3c9aafc2016810598ed0cc3025af5640db73224f586b6f1138385f4\n",
      "2 70311d9d203b2d7e4ff70d7fce219f82a4fcf73a110dc80187dfefb7c6e4bb87\n"
     ]
    }
   ],
   "source": [
    "for key, value in tree.level.items():\n",
    "    print (key, value.hashValue)"
   ]
  }
 ],
 "metadata": {
  "kernelspec": {
   "display_name": "Python 3",
   "language": "python",
   "name": "python3"
  },
  "language_info": {
   "codemirror_mode": {
    "name": "ipython",
    "version": 3
   },
   "file_extension": ".py",
   "mimetype": "text/x-python",
   "name": "python",
   "nbconvert_exporter": "python",
   "pygments_lexer": "ipython3",
   "version": "3.9.1"
  }
 },
 "nbformat": 4,
 "nbformat_minor": 5
}
