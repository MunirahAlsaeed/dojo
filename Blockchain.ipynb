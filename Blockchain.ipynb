{
 "cells": [
  {
   "cell_type": "code",
   "execution_count": 1,
   "metadata": {},
   "outputs": [],
   "source": [
    "from hashlib import sha256\n",
    "from time import time\n",
    "import json\n",
    "\n",
    "class Block:\n",
    "    def __init__(self, index, previousHash, transactions, timestamp=time() ):\n",
    "        self.index = index\n",
    "        self.previousHash = previousHash\n",
    "        self.transactions = transactions\n",
    "        self.timestamp = timestamp\n",
    "        self.proof = 0\n",
    "    \n",
    "    def __repr__(self):\n",
    "        return 'Index: {}, previous Hash: {}, Transactions: {} '.format(self.index, \n",
    "                                                                                   self.previousHash,\n",
    "                                                                                    self.transactions)\n",
    "         \n",
    "\n",
    "    def hashBlock(self):\n",
    "        blockToHash = json.dumps(self.__dict__, sort_keys=True)\n",
    "        return( sha256(blockToHash.encode()).hexdigest())\n",
    "\n",
    "class Blockchain:\n",
    "    def __init__(self):\n",
    "        # genesisBlock = Block(0, '', [], 1, 0)\n",
    "        self.chain = []\n",
    "        self.unconfirmedTransaction = []\n",
    "        self.countIndex = 0    \n",
    "\n",
    "    def createGenesisBlock(self):\n",
    "        genesisBlock = {\n",
    "            'index': 0,\n",
    "            'previousHash': '0',\n",
    "            'transactions': []\n",
    "            \n",
    "        }\n",
    "        genesisBlock = Block(genesisBlock['index'], genesisBlock['previousHash'], genesisBlock['transactions'])\n",
    "        genesisBlock.hash = genesisBlock.hashBlock()\n",
    "        self.chain.append(genesisBlock)\n",
    "    \n",
    "    def addTx(self, sender, receiver, amount):\n",
    "        tx = {\n",
    "            'sender': sender,\n",
    "            'receiver': receiver,\n",
    "            'amount': amount\n",
    "        }\n",
    "        self.unconfirmedTransaction.append(tx)\n",
    "    \n",
    "\n",
    "    def addBlock(self, block):\n",
    "        previousHash = self.getLastBlockchainValue.hash\n",
    "        if previousHash != block.previousHash:\n",
    "            return False\n",
    "        block.hash = block.hashBlock()\n",
    "        self.chain.append(block)\n",
    "        return True\n",
    "\n",
    "    \n",
    "    def mining(self):\n",
    "        lastBlock = self.getLastBlockchainValue\n",
    "        \n",
    "        block = {\n",
    "            'index': lastBlock.index + 1,\n",
    "            'previousHash': lastBlock.hash,\n",
    "            'transactions': self.unconfirmedTransaction\n",
    "        }\n",
    "        \n",
    "        newBlock = Block(block['index'], block['previousHash'], block['transactions'])\n",
    "        self.addBlock(newBlock)\n",
    "        \n",
    "        self.unconfirmedTransaction = []\n",
    "        return newBlock.index\n",
    "    \n",
    "    @property\n",
    "    def getLastBlockchainValue(self):\n",
    "        if len(self.chain) < 1:\n",
    "            return None\n",
    "        return(self.chain[-1])\n"
   ]
  },
  {
   "cell_type": "code",
   "execution_count": 2,
   "metadata": {},
   "outputs": [],
   "source": [
    "block = Blockchain()"
   ]
  },
  {
   "cell_type": "code",
   "execution_count": 3,
   "metadata": {},
   "outputs": [],
   "source": [
    "block.createGenesisBlock()"
   ]
  },
  {
   "cell_type": "code",
   "execution_count": 4,
   "metadata": {},
   "outputs": [],
   "source": [
    "block.addTx(\"ibrahim\", \"John\", 3)"
   ]
  },
  {
   "cell_type": "code",
   "execution_count": 5,
   "metadata": {},
   "outputs": [
    {
     "data": {
      "text/plain": [
       "[{'sender': 'ibrahim', 'receiver': 'John', 'amount': 3}]"
      ]
     },
     "execution_count": 5,
     "metadata": {},
     "output_type": "execute_result"
    }
   ],
   "source": [
    "block.unconfirmedTransaction"
   ]
  },
  {
   "cell_type": "code",
   "execution_count": 6,
   "metadata": {},
   "outputs": [
    {
     "data": {
      "text/plain": [
       "1"
      ]
     },
     "execution_count": 6,
     "metadata": {},
     "output_type": "execute_result"
    }
   ],
   "source": [
    "block.mining()"
   ]
  },
  {
   "cell_type": "code",
   "execution_count": 7,
   "metadata": {},
   "outputs": [
    {
     "data": {
      "text/plain": [
       "[{'sender': 'Ahmed', 'receiver': 'Alice', 'amount': 5}]"
      ]
     },
     "execution_count": 7,
     "metadata": {},
     "output_type": "execute_result"
    }
   ],
   "source": [
    "block.addTx(\"Ahmed\", \"Alice\", 5)\n",
    "block.unconfirmedTransaction"
   ]
  },
  {
   "cell_type": "code",
   "execution_count": 8,
   "metadata": {},
   "outputs": [
    {
     "name": "stdout",
     "output_type": "stream",
     "text": [
      " Transaction:  0 [] 0 dbb43b07e642e943d4413e32cb56a48c87bdbfa7cdc518a4446486e182894187\n",
      " Transaction:  1 [{'sender': 'ibrahim', 'receiver': 'John', 'amount': 3}] dbb43b07e642e943d4413e32cb56a48c87bdbfa7cdc518a4446486e182894187 e9bd7a54d5ad7994143c51efd19c7761e6c267a78064b577fa147b910ba7c19d\n"
     ]
    }
   ],
   "source": [
    "for i in (block.chain):\n",
    "    print (' Transaction: ', i.index, i.transactions, i.previousHash, i.hash)"
   ]
  }
 ],
 "metadata": {
  "kernelspec": {
   "display_name": "Python 3",
   "language": "python",
   "name": "python3"
  },
  "language_info": {
   "codemirror_mode": {
    "name": "ipython",
    "version": 3
   },
   "file_extension": ".py",
   "mimetype": "text/x-python",
   "name": "python",
   "nbconvert_exporter": "python",
   "pygments_lexer": "ipython3",
   "version": "3.9.0"
  }
 },
 "nbformat": 4,
 "nbformat_minor": 4
}
