{
 "cells": [
  {
   "cell_type": "code",
   "execution_count": null,
   "metadata": {},
   "outputs": [],
   "source": [
    "# https://pypi.org/project/bloxplorer/\n",
    "import sys\n",
    "!{sys.executable} -m pip install bloxplorer"
   ]
  },
  {
   "cell_type": "code",
   "execution_count": 1,
   "metadata": {},
   "outputs": [
    {
     "name": "stdout",
     "output_type": "stream",
     "text": [
      "665020\n"
     ]
    }
   ],
   "source": [
    "# test\n",
    "from bloxplorer import bitcoin_explorer\n",
    "response = bitcoin_explorer.blocks.get_last_height()\n",
    "print(response.data)"
   ]
  },
  {
   "cell_type": "code",
   "execution_count": 2,
   "metadata": {},
   "outputs": [],
   "source": [
    "memoryPool = bitcoin_explorer.mempool.get()"
   ]
  },
  {
   "cell_type": "code",
   "execution_count": null,
   "metadata": {},
   "outputs": [],
   "source": [
    "'''\n",
    "memoryPool.data()\n",
    "https://github.com/Blockstream/esplora/blob/master/API.md#get-mempool\n",
    "retruns: \n",
    "- the number of transactions\n",
    "- size of mempool transactions\n",
    "- total fee paid by mempool transactions in satoshis\n",
    "- mempool fee-rate distribution\n",
    "'''"
   ]
  },
  {
   "cell_type": "code",
   "execution_count": 3,
   "metadata": {},
   "outputs": [
    {
     "data": {
      "text/plain": [
       "40802"
      ]
     },
     "execution_count": 3,
     "metadata": {},
     "output_type": "execute_result"
    }
   ],
   "source": [
    "memoryPool.data['count']"
   ]
  },
  {
   "cell_type": "code",
   "execution_count": 4,
   "metadata": {},
   "outputs": [],
   "source": [
    "memoryPoolTX = bitcoin_explorer.mempool.get_latest_txs()"
   ]
  },
  {
   "cell_type": "code",
   "execution_count": 5,
   "metadata": {},
   "outputs": [
    {
     "data": {
      "text/plain": [
       "{'txid': '0a1162272fd2d0daf5c671e0c38e33d05a7613b0506853c284f07d8cdfede2d1',\n",
       " 'fee': 24970,\n",
       " 'vsize': 226,\n",
       " 'value': 3321933}"
      ]
     },
     "execution_count": 5,
     "metadata": {},
     "output_type": "execute_result"
    }
   ],
   "source": [
    "memoryPoolTX.data[0]"
   ]
  },
  {
   "cell_type": "code",
   "execution_count": null,
   "metadata": {},
   "outputs": [],
   "source": [
    "'''\n",
    "Address: \n",
    "Let's select any address from https://www.blockchain.com\n",
    "\n",
    "'''"
   ]
  },
  {
   "cell_type": "code",
   "execution_count": 6,
   "metadata": {},
   "outputs": [],
   "source": [
    "getAddressInfo = bitcoin_explorer.addr.get('1KFHE7w8BhaENAswwryaoccDb6qcT6DbYY')"
   ]
  },
  {
   "cell_type": "code",
   "execution_count": 7,
   "metadata": {},
   "outputs": [
    {
     "data": {
      "text/plain": [
       "{'address': '1KFHE7w8BhaENAswwryaoccDb6qcT6DbYY',\n",
       " 'chain_stats': {'funded_txo_count': 67824,\n",
       "  'funded_txo_sum': 507290060267768,\n",
       "  'spent_txo_count': 67779,\n",
       "  'spent_txo_sum': 507217018821822,\n",
       "  'tx_count': 67589},\n",
       " 'mempool_stats': {'funded_txo_count': 0,\n",
       "  'funded_txo_sum': 0,\n",
       "  'spent_txo_count': 0,\n",
       "  'spent_txo_sum': 0,\n",
       "  'tx_count': 0}}"
      ]
     },
     "execution_count": 7,
     "metadata": {},
     "output_type": "execute_result"
    }
   ],
   "source": [
    "getAddressInfo.data"
   ]
  },
  {
   "cell_type": "code",
   "execution_count": 8,
   "metadata": {},
   "outputs": [],
   "source": [
    "getAddressTxHist = bitcoin_explorer.addr.get_tx_history('1KFHE7w8BhaENAswwryaoccDb6qcT6DbYY')"
   ]
  },
  {
   "cell_type": "code",
   "execution_count": 9,
   "metadata": {},
   "outputs": [
    {
     "data": {
      "text/plain": [
       "{'txid': '4d7018f20d8ca3a18f6f46f6000275ebbf3387f1a5dbfb9b890c01d51540343f',\n",
       " 'version': 1,\n",
       " 'locktime': 1238387777,\n",
       " 'vin': [{'txid': '0000000000000000000000000000000000000000000000000000000000000000',\n",
       "   'vout': 4294967295,\n",
       "   'prevout': None,\n",
       "   'scriptsig': '0345250a2cfabe6d6d35f42e4ca5d107f8f04d4a10de3eed318a6799d9bb96bc869c14c6b9d087459b10000000f09f909f082f4632506f6f6c2f114d696e6564206279206c67316467737472000000000000000000000000000000000000050000000000',\n",
       "   'scriptsig_asm': 'OP_PUSHBYTES_3 45250a OP_PUSHBYTES_44 fabe6d6d35f42e4ca5d107f8f04d4a10de3eed318a6799d9bb96bc869c14c6b9d087459b10000000f09f909f OP_PUSHBYTES_8 2f4632506f6f6c2f OP_PUSHBYTES_17 4d696e6564206279206c67316467737472 OP_0 OP_0 OP_0 OP_0 OP_0 OP_0 OP_0 OP_0 OP_0 OP_0 OP_0 OP_0 OP_0 OP_0 OP_0 OP_0 OP_0 OP_0 OP_PUSHBYTES_5 0000000000',\n",
       "   'witness': ['0000000000000000000000000000000000000000000000000000000000000000'],\n",
       "   'is_coinbase': True,\n",
       "   'sequence': 197376951}],\n",
       " 'vout': [{'scriptpubkey': '76a914c825a1ecf2a6830c4401620c3a16f1995057c2ab88ac',\n",
       "   'scriptpubkey_asm': 'OP_DUP OP_HASH160 OP_PUSHBYTES_20 c825a1ecf2a6830c4401620c3a16f1995057c2ab OP_EQUALVERIFY OP_CHECKSIG',\n",
       "   'scriptpubkey_type': 'p2pkh',\n",
       "   'scriptpubkey_address': '1KFHE7w8BhaENAswwryaoccDb6qcT6DbYY',\n",
       "   'value': 707789753},\n",
       "  {'scriptpubkey': '6a24aa21a9ed76f4476d496df8b7819996949d7d0ec6417f8cecb5fcdcf42edea9f2f15e711e080000000000000000',\n",
       "   'scriptpubkey_asm': 'OP_RETURN OP_PUSHBYTES_36 aa21a9ed76f4476d496df8b7819996949d7d0ec6417f8cecb5fcdcf42edea9f2f15e711e OP_PUSHBYTES_8 0000000000000000',\n",
       "   'scriptpubkey_type': 'op_return',\n",
       "   'value': 0},\n",
       "  {'scriptpubkey': '6a4c2952534b424c4f434b3aa952a6eb001752ffefeefd03bd2bfd2b0d8f45ff60b504b207674d37002dd9c8',\n",
       "   'scriptpubkey_asm': 'OP_RETURN OP_PUSHDATA1 52534b424c4f434b3aa952a6eb001752ffefeefd03bd2bfd2b0d8f45ff60b504b207674d37002dd9c8',\n",
       "   'scriptpubkey_type': 'op_return',\n",
       "   'value': 0},\n",
       "  {'scriptpubkey': '6a24b9e11b6db4c1fe03c3b4e7f453cbb8fe3257a8d85231eb5593502a67797c30b5daf7c14d',\n",
       "   'scriptpubkey_asm': 'OP_RETURN OP_PUSHBYTES_36 b9e11b6db4c1fe03c3b4e7f453cbb8fe3257a8d85231eb5593502a67797c30b5daf7c14d',\n",
       "   'scriptpubkey_type': 'op_return',\n",
       "   'value': 0}],\n",
       " 'size': 377,\n",
       " 'weight': 1400,\n",
       " 'fee': 0,\n",
       " 'status': {'confirmed': True,\n",
       "  'block_height': 664901,\n",
       "  'block_hash': '0000000000000000000502d485bfbdbc61aad36d41e8940e2b5f70573a608bf4',\n",
       "  'block_time': 1609988947}}"
      ]
     },
     "execution_count": 9,
     "metadata": {},
     "output_type": "execute_result"
    }
   ],
   "source": [
    "getAddressTxHist.data[-1]"
   ]
  },
  {
   "cell_type": "code",
   "execution_count": 10,
   "metadata": {},
   "outputs": [],
   "source": [
    "getblockInfo = bitcoin_explorer.blocks.get('0000000000000000000e83b918de5b005c9bad69ebf892cb02ceccbef81706a3')"
   ]
  },
  {
   "cell_type": "code",
   "execution_count": 11,
   "metadata": {},
   "outputs": [
    {
     "data": {
      "text/plain": [
       "{'id': '0000000000000000000e83b918de5b005c9bad69ebf892cb02ceccbef81706a3',\n",
       " 'height': 664887,\n",
       " 'version': 536870912,\n",
       " 'timestamp': 1609982698,\n",
       " 'tx_count': 2780,\n",
       " 'size': 1346015,\n",
       " 'weight': 3998507,\n",
       " 'merkle_root': '0fa0dadb4b863a054f5bb6c52dc6ef9767e377fee3d116b781088e26bfe97154',\n",
       " 'previousblockhash': '0000000000000000000e3574ce53a96863bd6714521afa08af713e8d31d2d81b',\n",
       " 'mediantime': 1609979000,\n",
       " 'nonce': 3475079499,\n",
       " 'bits': 386867735,\n",
       " 'difficulty': 18599593048299}"
      ]
     },
     "execution_count": 11,
     "metadata": {},
     "output_type": "execute_result"
    }
   ],
   "source": [
    "getblockInfo.data"
   ]
  },
  {
   "cell_type": "code",
   "execution_count": 12,
   "metadata": {},
   "outputs": [
    {
     "data": {
      "text/plain": [
       "'0fa0dadb4b863a054f5bb6c52dc6ef9767e377fee3d116b781088e26bfe97154'"
      ]
     },
     "execution_count": 12,
     "metadata": {},
     "output_type": "execute_result"
    }
   ],
   "source": [
    "getblockInfo.data['merkle_root']"
   ]
  },
  {
   "cell_type": "code",
   "execution_count": 13,
   "metadata": {},
   "outputs": [],
   "source": [
    "getblockTxIds = bitcoin_explorer.blocks.get_txids('0000000000000000000e83b918de5b005c9bad69ebf892cb02ceccbef81706a3')"
   ]
  },
  {
   "cell_type": "code",
   "execution_count": 15,
   "metadata": {},
   "outputs": [
    {
     "data": {
      "text/plain": [
       "'17d056626027111a922330841646548dcfe0a8a790f60e6f425a7b609f38bfb6'"
      ]
     },
     "execution_count": 15,
     "metadata": {},
     "output_type": "execute_result"
    }
   ],
   "source": [
    "getblockTxIds.data[-1]"
   ]
  },
  {
   "cell_type": "code",
   "execution_count": 16,
   "metadata": {},
   "outputs": [],
   "source": [
    "getblockTxs = bitcoin_explorer.blocks.get_txs('0000000000000000000e83b918de5b005c9bad69ebf892cb02ceccbef81706a3')"
   ]
  },
  {
   "cell_type": "code",
   "execution_count": 17,
   "metadata": {},
   "outputs": [
    {
     "data": {
      "text/plain": [
       "{'txid': 'b7ce8d8b3ed4e77fb5d40c1405550525b7d511726c44e59090562cee2bbc0655',\n",
       " 'version': 1,\n",
       " 'locktime': 990551311,\n",
       " 'vin': [{'txid': '0000000000000000000000000000000000000000000000000000000000000000',\n",
       "   'vout': 4294967295,\n",
       "   'prevout': None,\n",
       "   'scriptsig': '0337250a2cfabe6d6df9cf15bc04bf7d963fef08cae1b8af406e3d8686da0d43221286bea1dcc9658310000000f09f909f082f4632506f6f6c2f164d696e65642062792067656f76616e65656465723032000000000000000000000000000500fd150000',\n",
       "   'scriptsig_asm': 'OP_PUSHBYTES_3 37250a OP_PUSHBYTES_44 fabe6d6df9cf15bc04bf7d963fef08cae1b8af406e3d8686da0d43221286bea1dcc9658310000000f09f909f OP_PUSHBYTES_8 2f4632506f6f6c2f OP_PUSHBYTES_22 4d696e65642062792067656f76616e65656465723032 OP_0 OP_0 OP_0 OP_0 OP_0 OP_0 OP_0 OP_0 OP_0 OP_0 OP_0 OP_0 OP_0 OP_PUSHBYTES_5 00fd150000',\n",
       "   'witness': ['0000000000000000000000000000000000000000000000000000000000000000'],\n",
       "   'is_coinbase': True,\n",
       "   'sequence': 0}],\n",
       " 'vout': [{'scriptpubkey': '76a914c825a1ecf2a6830c4401620c3a16f1995057c2ab88ac',\n",
       "   'scriptpubkey_asm': 'OP_DUP OP_HASH160 OP_PUSHBYTES_20 c825a1ecf2a6830c4401620c3a16f1995057c2ab OP_EQUALVERIFY OP_CHECKSIG',\n",
       "   'scriptpubkey_type': 'p2pkh',\n",
       "   'scriptpubkey_address': '1KFHE7w8BhaENAswwryaoccDb6qcT6DbYY',\n",
       "   'value': 713102966},\n",
       "  {'scriptpubkey': '6a24aa21a9ed8ae4b390f396c0359a95d0340912fa15010e53fd9d7008a08e4eb0651e3e706f',\n",
       "   'scriptpubkey_asm': 'OP_RETURN OP_PUSHBYTES_36 aa21a9ed8ae4b390f396c0359a95d0340912fa15010e53fd9d7008a08e4eb0651e3e706f',\n",
       "   'scriptpubkey_type': 'op_return',\n",
       "   'value': 0},\n",
       "  {'scriptpubkey': '6a4c2952534b424c4f434b3affce614a4c8ef28c3b5eabf3f14ae4793252148c07674d93a779072b002dd8fa',\n",
       "   'scriptpubkey_asm': 'OP_RETURN OP_PUSHDATA1 52534b424c4f434b3affce614a4c8ef28c3b5eabf3f14ae4793252148c07674d93a779072b002dd8fa',\n",
       "   'scriptpubkey_type': 'op_return',\n",
       "   'value': 0},\n",
       "  {'scriptpubkey': '6a24b9e11b6d17ef15ddafa043b2fdb58684cdcf342f84e30bfee1cc5047dc92a2dd382c1281',\n",
       "   'scriptpubkey_asm': 'OP_RETURN OP_PUSHBYTES_36 b9e11b6d17ef15ddafa043b2fdb58684cdcf342f84e30bfee1cc5047dc92a2dd382c1281',\n",
       "   'scriptpubkey_type': 'op_return',\n",
       "   'value': 0}],\n",
       " 'size': 368,\n",
       " 'weight': 1364,\n",
       " 'fee': 0,\n",
       " 'status': {'confirmed': True,\n",
       "  'block_height': 664887,\n",
       "  'block_hash': '0000000000000000000e83b918de5b005c9bad69ebf892cb02ceccbef81706a3',\n",
       "  'block_time': 1609982698}}"
      ]
     },
     "execution_count": 17,
     "metadata": {},
     "output_type": "execute_result"
    }
   ],
   "source": [
    "getblockTxs.data[0]\n",
    "# getblockTxs.data[0]['txid']"
   ]
  },
  {
   "cell_type": "code",
   "execution_count": 18,
   "metadata": {},
   "outputs": [],
   "source": [
    "getblockStatus = bitcoin_explorer.blocks.get_status('0000000000000000000e83b918de5b005c9bad69ebf892cb02ceccbef81706a3')"
   ]
  },
  {
   "cell_type": "code",
   "execution_count": 19,
   "metadata": {},
   "outputs": [
    {
     "data": {
      "text/plain": [
       "{'in_best_chain': True,\n",
       " 'height': 664887,\n",
       " 'next_best': '0000000000000000000b4001a0bc1aeb56bad1583d5c3bc6cd15d478a26894fa'}"
      ]
     },
     "execution_count": 19,
     "metadata": {},
     "output_type": "execute_result"
    }
   ],
   "source": [
    "getblockStatus.data"
   ]
  },
  {
   "cell_type": "code",
   "execution_count": 20,
   "metadata": {},
   "outputs": [],
   "source": [
    "getTxInfo = bitcoin_explorer.tx.get('b7ce8d8b3ed4e77fb5d40c1405550525b7d511726c44e59090562cee2bbc0655')"
   ]
  },
  {
   "cell_type": "code",
   "execution_count": 21,
   "metadata": {},
   "outputs": [
    {
     "data": {
      "text/plain": [
       "{'txid': 'b7ce8d8b3ed4e77fb5d40c1405550525b7d511726c44e59090562cee2bbc0655',\n",
       " 'version': 1,\n",
       " 'locktime': 990551311,\n",
       " 'vin': [{'txid': '0000000000000000000000000000000000000000000000000000000000000000',\n",
       "   'vout': 4294967295,\n",
       "   'prevout': None,\n",
       "   'scriptsig': '0337250a2cfabe6d6df9cf15bc04bf7d963fef08cae1b8af406e3d8686da0d43221286bea1dcc9658310000000f09f909f082f4632506f6f6c2f164d696e65642062792067656f76616e65656465723032000000000000000000000000000500fd150000',\n",
       "   'scriptsig_asm': 'OP_PUSHBYTES_3 37250a OP_PUSHBYTES_44 fabe6d6df9cf15bc04bf7d963fef08cae1b8af406e3d8686da0d43221286bea1dcc9658310000000f09f909f OP_PUSHBYTES_8 2f4632506f6f6c2f OP_PUSHBYTES_22 4d696e65642062792067656f76616e65656465723032 OP_0 OP_0 OP_0 OP_0 OP_0 OP_0 OP_0 OP_0 OP_0 OP_0 OP_0 OP_0 OP_0 OP_PUSHBYTES_5 00fd150000',\n",
       "   'witness': ['0000000000000000000000000000000000000000000000000000000000000000'],\n",
       "   'is_coinbase': True,\n",
       "   'sequence': 0}],\n",
       " 'vout': [{'scriptpubkey': '76a914c825a1ecf2a6830c4401620c3a16f1995057c2ab88ac',\n",
       "   'scriptpubkey_asm': 'OP_DUP OP_HASH160 OP_PUSHBYTES_20 c825a1ecf2a6830c4401620c3a16f1995057c2ab OP_EQUALVERIFY OP_CHECKSIG',\n",
       "   'scriptpubkey_type': 'p2pkh',\n",
       "   'scriptpubkey_address': '1KFHE7w8BhaENAswwryaoccDb6qcT6DbYY',\n",
       "   'value': 713102966},\n",
       "  {'scriptpubkey': '6a24aa21a9ed8ae4b390f396c0359a95d0340912fa15010e53fd9d7008a08e4eb0651e3e706f',\n",
       "   'scriptpubkey_asm': 'OP_RETURN OP_PUSHBYTES_36 aa21a9ed8ae4b390f396c0359a95d0340912fa15010e53fd9d7008a08e4eb0651e3e706f',\n",
       "   'scriptpubkey_type': 'op_return',\n",
       "   'value': 0},\n",
       "  {'scriptpubkey': '6a4c2952534b424c4f434b3affce614a4c8ef28c3b5eabf3f14ae4793252148c07674d93a779072b002dd8fa',\n",
       "   'scriptpubkey_asm': 'OP_RETURN OP_PUSHDATA1 52534b424c4f434b3affce614a4c8ef28c3b5eabf3f14ae4793252148c07674d93a779072b002dd8fa',\n",
       "   'scriptpubkey_type': 'op_return',\n",
       "   'value': 0},\n",
       "  {'scriptpubkey': '6a24b9e11b6d17ef15ddafa043b2fdb58684cdcf342f84e30bfee1cc5047dc92a2dd382c1281',\n",
       "   'scriptpubkey_asm': 'OP_RETURN OP_PUSHBYTES_36 b9e11b6d17ef15ddafa043b2fdb58684cdcf342f84e30bfee1cc5047dc92a2dd382c1281',\n",
       "   'scriptpubkey_type': 'op_return',\n",
       "   'value': 0}],\n",
       " 'size': 368,\n",
       " 'weight': 1364,\n",
       " 'fee': 0,\n",
       " 'status': {'confirmed': True,\n",
       "  'block_height': 664887,\n",
       "  'block_hash': '0000000000000000000e83b918de5b005c9bad69ebf892cb02ceccbef81706a3',\n",
       "  'block_time': 1609982698}}"
      ]
     },
     "execution_count": 21,
     "metadata": {},
     "output_type": "execute_result"
    }
   ],
   "source": [
    "getTxInfo.data"
   ]
  },
  {
   "cell_type": "code",
   "execution_count": 22,
   "metadata": {},
   "outputs": [],
   "source": [
    "getTxHex = bitcoin_explorer.tx.get_hex('b7ce8d8b3ed4e77fb5d40c1405550525b7d511726c44e59090562cee2bbc0655')"
   ]
  },
  {
   "cell_type": "code",
   "execution_count": 23,
   "metadata": {},
   "outputs": [
    {
     "data": {
      "text/plain": [
       "'010000000001010000000000000000000000000000000000000000000000000000000000000000ffffffff640337250a2cfabe6d6df9cf15bc04bf7d963fef08cae1b8af406e3d8686da0d43221286bea1dcc9658310000000f09f909f082f4632506f6f6c2f164d696e65642062792067656f76616e65656465723032000000000000000000000000000500fd15000000000000047616812a000000001976a914c825a1ecf2a6830c4401620c3a16f1995057c2ab88ac0000000000000000266a24aa21a9ed8ae4b390f396c0359a95d0340912fa15010e53fd9d7008a08e4eb0651e3e706f00000000000000002c6a4c2952534b424c4f434b3affce614a4c8ef28c3b5eabf3f14ae4793252148c07674d93a779072b002dd8fa0000000000000000266a24b9e11b6d17ef15ddafa043b2fdb58684cdcf342f84e30bfee1cc5047dc92a2dd382c1281012000000000000000000000000000000000000000000000000000000000000000000f9d0a3b'"
      ]
     },
     "execution_count": 23,
     "metadata": {},
     "output_type": "execute_result"
    }
   ],
   "source": [
    "getTxHex.data"
   ]
  },
  {
   "cell_type": "code",
   "execution_count": 24,
   "metadata": {},
   "outputs": [],
   "source": [
    "getTxMerkle = bitcoin_explorer.tx.get_merkle_proof('b7ce8d8b3ed4e77fb5d40c1405550525b7d511726c44e59090562cee2bbc0655')"
   ]
  },
  {
   "cell_type": "code",
   "execution_count": 25,
   "metadata": {},
   "outputs": [
    {
     "data": {
      "text/plain": [
       "{'block_height': 664887,\n",
       " 'merkle': ['e10e450dade35f56e5ed76171e89dd37697b1c4eb4ec3e1508a4bc8624725e3b',\n",
       "  '2155065b89566b949cfc85194873956be24b4c301276352a123ca6adcf3b71d1',\n",
       "  '5647d9c725bdb4f58587dbba602eaadfc7a23c64b8553fffa08cc7db5338b39a',\n",
       "  'eb910884caeacf5a38ad1e9a2923d24ceb724194f6d523eba67d919e8dd3cf64',\n",
       "  '87b580f832b93d5b8021a025121f582ff10c876e5271ac848e4c5a54d24b0a67',\n",
       "  '35688b36faad17b525c2c1829eede9fd3edc2bbf61ad212ee0183b379921d515',\n",
       "  '9309b8f7d000555896dd9285a6d4f1acbcfe96b6374d36d60853c7b55fc105b2',\n",
       "  '546061fd2a7e0ce51edc88a93f8d65569163804edd29770d9f7372a57736c70e',\n",
       "  'c8e9af83c1339d840ea8cf5735a900fce3532d20714a2d30775f56d964ed6a95',\n",
       "  '6bb8f0374385d2cde89954fd58b92e87c041a5e2150dd2b4ee013fc2b3ba37dc',\n",
       "  'd04c2f62fc90180ccf219f7fafdf15a23312ea3663636627358bbf1db1315ee4',\n",
       "  '61e119ab79028945b8fb41ef80394c9ba5671baa1d1bfb5fb6cff34b7bccc9b5'],\n",
       " 'pos': 0}"
      ]
     },
     "execution_count": 25,
     "metadata": {},
     "output_type": "execute_result"
    }
   ],
   "source": [
    "'''\n",
    "Returns a merkle inclusion proof for the transaction using Electrum’s \n",
    "blockchain.transaction.get_merkle format.\n",
    "https://electrumx.readthedocs.io/en/latest/protocol-methods.html#blockchain-transaction-get-merkle\n",
    "\n",
    "'''\n",
    "getTxMerkle.data"
   ]
  },
  {
   "cell_type": "code",
   "execution_count": 26,
   "metadata": {},
   "outputs": [],
   "source": [
    "getTxMerkleblock = bitcoin_explorer.tx.get_merkleblock_proof('b7ce8d8b3ed4e77fb5d40c1405550525b7d511726c44e59090562cee2bbc0655')"
   ]
  },
  {
   "cell_type": "code",
   "execution_count": 27,
   "metadata": {},
   "outputs": [
    {
     "data": {
      "text/plain": [
       "'000000201bd8d2318d3e71af08fa1a521467bd6368a953ce74350e0000000000000000005471e9bf268e0881b716d1e3fe77e36797efc62dc5b65b4f053a864bdbdaa00fea62f65f17220f174b8121cfdc0a00000d5506bc2bee2c569090e5446c7211d5b725055505140cd4b57fe7d43e8b8dceb73b5e722486bca408153eecb44e1c7b6937dd891e1776ede5565fe3ad0d450ee1d1713bcfada63c122a357612304c4be26b9573481985fc9c946b56895b0655219ab33853dbc78ca0ff3f55b8643ca2c7dfaa2e60badb8785f5b4bd25c7d9475664cfd38d9e917da6eb23d5f6944172eb4cd223299a1ead385acfeaca840891eb670a4bd2545a4c8e84ac71526e870cf12f581f1225a021805b3db932f880b58715d52199373b18e02e21ad61bf2bdc3efde9ed9e82c1c225b517adfa368b6835b205c15fb5c75308d6364d37b696febcacf1d4a68592dd96585500d0f7b809930ec73677a572739f0d7729dd4e80639156658d3fa988dc1ee50c7e2afd616054956aed64d9565f77302d4a71202d53e3fc00a93557cfa80e849d33c183afe9c8dc37bab3c23f01eeb4d20d15e2a541c0872eb958fd5499e8cdd2854337f0b86be45e31b11dbf8b352766636336ea1233a215dfaf7f9f21cf0c1890fc622f4cd0b5c9cc7b4bf3cfb65ffb1b1daa1b67a59b4c3980ef41fbb845890279ab19e16104ff1f0000'"
      ]
     },
     "execution_count": 27,
     "metadata": {},
     "output_type": "execute_result"
    }
   ],
   "source": [
    "'''\n",
    "Returns a merkle inclusion proof for the transaction \n",
    "using bitcoind’s merkleblock format.\n",
    "\n",
    "'''\n",
    "getTxMerkleblock.data"
   ]
  },
  {
   "cell_type": "code",
   "execution_count": 28,
   "metadata": {},
   "outputs": [],
   "source": [
    "getTxStatus = bitcoin_explorer.tx.get_status('b7ce8d8b3ed4e77fb5d40c1405550525b7d511726c44e59090562cee2bbc0655')"
   ]
  },
  {
   "cell_type": "code",
   "execution_count": 29,
   "metadata": {},
   "outputs": [
    {
     "data": {
      "text/plain": [
       "{'confirmed': True,\n",
       " 'block_height': 664887,\n",
       " 'block_hash': '0000000000000000000e83b918de5b005c9bad69ebf892cb02ceccbef81706a3',\n",
       " 'block_time': 1609982698}"
      ]
     },
     "execution_count": 29,
     "metadata": {},
     "output_type": "execute_result"
    }
   ],
   "source": [
    "getTxStatus.data"
   ]
  },
  {
   "cell_type": "code",
   "execution_count": null,
   "metadata": {},
   "outputs": [],
   "source": []
  }
 ],
 "metadata": {
  "kernelspec": {
   "display_name": "Python 3",
   "language": "python",
   "name": "python3"
  },
  "language_info": {
   "codemirror_mode": {
    "name": "ipython",
    "version": 3
   },
   "file_extension": ".py",
   "mimetype": "text/x-python",
   "name": "python",
   "nbconvert_exporter": "python",
   "pygments_lexer": "ipython3",
   "version": "3.9.0"
  }
 },
 "nbformat": 4,
 "nbformat_minor": 4
}
