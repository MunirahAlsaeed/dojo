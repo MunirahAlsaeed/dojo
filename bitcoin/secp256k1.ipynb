{
 "cells": [
  {
   "cell_type": "markdown",
   "metadata": {},
   "source": [
    "Curve: $$y^2= x^3 + ax + b$$ \\\n",
    "$$where a = 0 & b = 7$$ \\\n",
    "The specific curve is the secp256K1\n",
    "$$y^2= x^3 + 7$$"
   ]
  },
  {
   "cell_type": "markdown",
   "metadata": {},
   "source": [
    "https://www.bitaddress.org/bitaddress.org-v3.3.0-SHA256-dec17c07685e1870960903d8f58090475b25af946fe95a734f88408cef4aa194.html"
   ]
  },
  {
   "cell_type": "code",
   "execution_count": null,
   "metadata": {},
   "outputs": [],
   "source": [
    "prime=2**256 - 2**32 - 2**9 - 2**8 - 2**7 - 2**6 - 2**4 - 1"
   ]
  },
  {
   "cell_type": "code",
   "execution_count": 7,
   "metadata": {},
   "outputs": [
    {
     "data": {
      "text/plain": [
       "115792089237316195423570985008687907853269984665640564039457584007908834671663"
      ]
     },
     "execution_count": 7,
     "metadata": {},
     "output_type": "execute_result"
    }
   ],
   "source": [
    "# base10\n",
    "prime "
   ]
  },
  {
   "cell_type": "code",
   "execution_count": 8,
   "metadata": {},
   "outputs": [
    {
     "data": {
      "text/plain": [
       "'0xfffffffffffffffffffffffffffffffffffffffffffffffffffffffefffffc2f'"
      ]
     },
     "execution_count": 8,
     "metadata": {},
     "output_type": "execute_result"
    }
   ],
   "source": [
    "hex(prime)"
   ]
  },
  {
   "cell_type": "markdown",
   "metadata": {},
   "source": [
    "G is the generator point and G is defined by a & b \\\n",
    "n is the points in the field \\\n",
    "h is the co-factor"
   ]
  },
  {
   "cell_type": "code",
   "execution_count": 51,
   "metadata": {},
   "outputs": [],
   "source": [
    "n=0xFFFFFFFFFFFFFFFFFFFFFFFFFFFFFFFEBAAEDCE6AF48A03BBFD25E8CD0364141"
   ]
  },
  {
   "cell_type": "code",
   "execution_count": 20,
   "metadata": {},
   "outputs": [],
   "source": [
    "a_curve = 0\n",
    "b_curve = 7"
   ]
  },
  {
   "cell_type": "code",
   "execution_count": 13,
   "metadata": {},
   "outputs": [],
   "source": [
    "h = 1"
   ]
  },
  {
   "cell_type": "markdown",
   "metadata": {},
   "source": [
    "when there is an x point on the curve, there is an y point \\\n",
    "They are the same point that flipped over x-axis. \\\n",
    "So if you know x on any point of the curve, you know the value of y."
   ]
  },
  {
   "cell_type": "code",
   "execution_count": 12,
   "metadata": {},
   "outputs": [],
   "source": [
    "Gx = 55066263022277343669578718895168534326250603453777594175500187360389116729240\n",
    "Gy = 32670510020758816978083085130507043184471273380659243275938904335757337482424\n",
    "x = 0x79BE667EF9DCBBAC55A06295CE870B07029BFCDB2DCE28D959F2815B16F81798\n",
    "y = 0x483ADA7726A3C4655DA4FBFC0E1108A8FD17B448A68554199C47D08FFB10D4B8        "
   ]
  },
  {
   "cell_type": "code",
   "execution_count": 159,
   "metadata": {},
   "outputs": [
    {
     "data": {
      "text/plain": [
       "'0x79be667ef9dcbbac55a06295ce870b07029bfcdb2dce28d959f2815b16f81798'"
      ]
     },
     "execution_count": 159,
     "metadata": {},
     "output_type": "execute_result"
    }
   ],
   "source": [
    "hex(Gx)"
   ]
  },
  {
   "cell_type": "code",
   "execution_count": 161,
   "metadata": {},
   "outputs": [
    {
     "data": {
      "text/plain": [
       "55066263022277343669578718895168534326250603453777594175500187360389116729240"
      ]
     },
     "execution_count": 161,
     "metadata": {},
     "output_type": "execute_result"
    }
   ],
   "source": [
    "x"
   ]
  },
  {
   "cell_type": "code",
   "execution_count": 162,
   "metadata": {},
   "outputs": [
    {
     "data": {
      "text/plain": [
       "'0x483ada7726a3c4655da4fbfc0e1108a8fd17b448a68554199c47d08ffb10d4b8'"
      ]
     },
     "execution_count": 162,
     "metadata": {},
     "output_type": "execute_result"
    }
   ],
   "source": [
    "hex(Gy)"
   ]
  },
  {
   "cell_type": "code",
   "execution_count": 163,
   "metadata": {},
   "outputs": [
    {
     "data": {
      "text/plain": [
       "32670510020758816978083085130507043184471273380659243275938904335757337482424"
      ]
     },
     "execution_count": 163,
     "metadata": {},
     "output_type": "execute_result"
    }
   ],
   "source": [
    "y"
   ]
  },
  {
   "cell_type": "code",
   "execution_count": 164,
   "metadata": {},
   "outputs": [],
   "source": [
    "G = (Gx, Gy)"
   ]
  },
  {
   "cell_type": "code",
   "execution_count": 165,
   "metadata": {},
   "outputs": [
    {
     "data": {
      "text/plain": [
       "(55066263022277343669578718895168534326250603453777594175500187360389116729240,\n",
       " 32670510020758816978083085130507043184471273380659243275938904335757337482424)"
      ]
     },
     "execution_count": 165,
     "metadata": {},
     "output_type": "execute_result"
    }
   ],
   "source": [
    "G"
   ]
  },
  {
   "cell_type": "code",
   "execution_count": 149,
   "metadata": {},
   "outputs": [],
   "source": [
    "privateKey = 0xA0DC65FFCA799873CBEA0AC274015B9526505DAAAED385155425F7337704883E"
   ]
  },
  {
   "cell_type": "code",
   "execution_count": 166,
   "metadata": {},
   "outputs": [],
   "source": [
    "privateKey = 0x931609513E57AF7CB252DD5C22E76D21A035A145C60AF8E9C7856CAB823C8971"
   ]
  },
  {
   "cell_type": "code",
   "execution_count": 155,
   "metadata": {},
   "outputs": [
    {
     "data": {
      "text/plain": [
       "66528923683203518504868520852346299273540010994337822668999060952421429447025"
      ]
     },
     "execution_count": 155,
     "metadata": {},
     "output_type": "execute_result"
    }
   ],
   "source": [
    "privateKey"
   ]
  },
  {
   "cell_type": "code",
   "execution_count": 105,
   "metadata": {},
   "outputs": [
    {
     "data": {
      "text/plain": [
       "'1010000011011100011001011111111111001010011110011001100001110011110010111110101000001010110000100111010000000001010110111001010100100110010100000101110110101010101011101101001110000101000101010101010000100101111101110011001101110111000001001000100000111110'"
      ]
     },
     "execution_count": 105,
     "metadata": {},
     "output_type": "execute_result"
    }
   ],
   "source": [
    "privateKeyBin = str(bin(privateKey))[2:]\n",
    "privateKeyBin"
   ]
  },
  {
   "cell_type": "code",
   "execution_count": 167,
   "metadata": {},
   "outputs": [
    {
     "data": {
      "text/plain": [
       "'0b1001001100010110000010010101000100111110010101111010111101111100101100100101001011011101010111000010001011100111011011010010000110100000001101011010000101000101110001100000101011111000111010011100011110000101011011001010101110000010001111001000100101110001'"
      ]
     },
     "execution_count": 167,
     "metadata": {},
     "output_type": "execute_result"
    }
   ],
   "source": [
    "str(bin(privateKey))"
   ]
  },
  {
   "cell_type": "markdown",
   "metadata": {},
   "source": [
    "Uncompressed public key is the result of private key multiply generation point\n",
    "$$publicKey = privateKey * G$$"
   ]
  },
  {
   "cell_type": "code",
   "execution_count": 156,
   "metadata": {},
   "outputs": [
    {
     "name": "stdout",
     "output_type": "stream",
     "text": [
      "Address: 1PL91Bp92ESE2gbSSx7Jf1H3vZno6zVoxr\n"
     ]
    }
   ],
   "source": [
    "from os import urandom\n",
    "import hashlib\n",
    "\n",
    "class SECP256k1:\n",
    "    def __init__(self,\n",
    "        x=0x79BE667EF9DCBBAC55A06295CE870B07029BFCDB2DCE28D959F2815B16F81798,\n",
    "        y=0x483ADA7726A3C4655DA4FBFC0E1108A8FD17B448A68554199C47D08FFB10D4B8,\n",
    "        p=2**256 - 2**32 - 2**9 - 2**8 - 2**7 - 2**6 - 2**4 - 1):\n",
    "        \n",
    "        self.x = x\n",
    "        self.y = y\n",
    "        self.p = p\n",
    "\n",
    "    def __add__(self, other):\n",
    "        return self.__radd__(other)\n",
    "\n",
    "    def __mul__(self, other):\n",
    "        return self.__rmul__(other)\n",
    "\n",
    "    def __rmul__(self, other):\n",
    "        n = self\n",
    "        q = None\n",
    "\n",
    "        for i in range(256):\n",
    "            if other & (1 << i):\n",
    "                q = q + n\n",
    "            n = n + n\n",
    "        return q\n",
    "\n",
    "    def __radd__(self, other):\n",
    "        if other is None:\n",
    "            return self\n",
    "        x1 = other.x\n",
    "        y1 = other.y\n",
    "        x2 = self.x\n",
    "        y2 = self.y\n",
    "        p = self.p\n",
    "\n",
    "        if self == other:\n",
    "            l = pow(2 * y2 % p, p-2, p) * (3 * x2 * x2) % p\n",
    "        else:\n",
    "            l = pow(x1 - x2, p-2, p) * (y1 - y2) % p\n",
    "\n",
    "        newX = (l ** 2 - x2 - x1) % p\n",
    "        newY = (l * x2 - l * newX - y2) % p\n",
    "\n",
    "        return SECP256k1(newX, newY)\n",
    "\n",
    "    def toBytes(self):\n",
    "        x = self.x.to_bytes(32, \"big\")\n",
    "        y = self.y.to_bytes(32, \"big\")\n",
    "        return b\"\\x04\" + x + y\n",
    "\n",
    "    \n",
    "def sha256(data):\n",
    "    digest = hashlib.sha256()\n",
    "    digest.update(data)\n",
    "    return digest.digest()\n",
    "\n",
    "\n",
    "def ripemd160(x):\n",
    "    d = hashlib.new(\"ripemd160\")\n",
    "    d.update(x)\n",
    "    return d.digest()\n",
    "\n",
    "\n",
    "def base58(data):\n",
    "    alphabet = \"123456789ABCDEFGHJKLMNPQRSTUVWXYZabcdefghijkmnopqrstuvwxyz\"\n",
    "\n",
    "    if data[0] == 0:\n",
    "        return \"1\" + base58(data[1:])\n",
    "\n",
    "    x = sum([v * (256 ** i) for i, v in enumerate(data[::-1])])\n",
    "    ret = \"\"\n",
    "    while x > 0:\n",
    "        ret = alphabet[x % 58] + ret\n",
    "        x = x // 58\n",
    "\n",
    "    return ret\n",
    "\n",
    "def getPublicKey(privkey):\n",
    "    secp256k1 = SECP256k1()\n",
    "#     pk = int.from_bytes(privkey, \"big\")\n",
    "    pk = privateKey\n",
    "    hash160 = ripemd160(sha256((secp256k1 * pk).toBytes()))\n",
    "    address = b\"\\x00\" + hash160\n",
    "\n",
    "    address = base58(address + sha256(sha256(address))[:4])\n",
    "    return address\n",
    "\n",
    "\n",
    "def getWif(privkey):\n",
    "    wif = b\"\\x80\" + privkey\n",
    "    wif = base58(wif + sha256(sha256(wif))[:4])\n",
    "    return wif\n",
    "\n",
    "\n",
    "if __name__ == \"__main__\":\n",
    "    randomBytes = urandom(32)\n",
    "    print(\"Address: \" + getPublicKey(randomBytes))\n",
    "#     print(\"Privkey: \" + getWif(randomBytes))\n",
    "\n",
    "\n"
   ]
  },
  {
   "cell_type": "code",
   "execution_count": 147,
   "metadata": {},
   "outputs": [],
   "source": [
    "ans = multi(privateKey, G)"
   ]
  },
  {
   "cell_type": "code",
   "execution_count": 144,
   "metadata": {},
   "outputs": [
    {
     "data": {
      "text/plain": [
       "113222265672974413393418523735460271466253646155597497947161490565543258819931"
      ]
     },
     "execution_count": 144,
     "metadata": {},
     "output_type": "execute_result"
    }
   ],
   "source": [
    "sec = int.from_bytes(randomBytes,byteorder='big')\n",
    "sec"
   ]
  },
  {
   "cell_type": "code",
   "execution_count": 141,
   "metadata": {},
   "outputs": [
    {
     "data": {
      "text/plain": [
       "113222265672974413393418523735460271466253646155597497947161490565543258819931"
      ]
     },
     "execution_count": 141,
     "metadata": {},
     "output_type": "execute_result"
    }
   ],
   "source": [
    "int.from_bytes(randomBytes, \"big\")"
   ]
  },
  {
   "cell_type": "code",
   "execution_count": 108,
   "metadata": {},
   "outputs": [
    {
     "data": {
      "text/plain": [
       "'0xa0dc65ffca799873cbea0ac274015b9526505daaaed385155425f7337704883e'"
      ]
     },
     "execution_count": 108,
     "metadata": {},
     "output_type": "execute_result"
    }
   ],
   "source": [
    "hex(ans)"
   ]
  },
  {
   "cell_type": "code",
   "execution_count": 116,
   "metadata": {},
   "outputs": [
    {
     "data": {
      "text/plain": [
       "int"
      ]
     },
     "execution_count": 116,
     "metadata": {},
     "output_type": "execute_result"
    }
   ],
   "source": [
    "type(ans)"
   ]
  },
  {
   "cell_type": "code",
   "execution_count": 109,
   "metadata": {},
   "outputs": [
    {
     "data": {
      "text/plain": [
       "9007199254740992.0"
      ]
     },
     "execution_count": 109,
     "metadata": {},
     "output_type": "execute_result"
    }
   ],
   "source": [
    "EcDivision((2* G[0]), prime)"
   ]
  },
  {
   "cell_type": "code",
   "execution_count": 157,
   "metadata": {},
   "outputs": [],
   "source": [
    "ans = multi(privateKey, G)"
   ]
  },
  {
   "cell_type": "code",
   "execution_count": 158,
   "metadata": {},
   "outputs": [
    {
     "data": {
      "text/plain": [
       "66528923683203518504868520852346299273540010994337822668999060952421429447025"
      ]
     },
     "execution_count": 158,
     "metadata": {},
     "output_type": "execute_result"
    }
   ],
   "source": [
    "ans"
   ]
  },
  {
   "cell_type": "code",
   "execution_count": 113,
   "metadata": {},
   "outputs": [
    {
     "data": {
      "text/plain": [
       "'0xa0dc65ffca799873cbea0ac274015b9526505daaaed385155425f7337704883e'"
      ]
     },
     "execution_count": 113,
     "metadata": {},
     "output_type": "execute_result"
    }
   ],
   "source": [
    "hex(ans)"
   ]
  },
  {
   "cell_type": "markdown",
   "metadata": {},
   "source": [
    "Ex:\n",
    "https://walletgenerator.net/\n",
    "https://kimbatt.github.io/btc-address-generator/\n",
    "\n",
    "Refs:\n",
    "https://en.bitcoin.it/wiki/Invoice_address\n",
    "https://en.wikipedia.org/wiki/Elliptic_Curve_Digital_Signature_Algorithm\n",
    "https://github.com/opsxcq/blog/blob/master/static/src/bitcoin-address-generator.py\n",
    "\n"
   ]
  },
  {
   "cell_type": "code",
   "execution_count": null,
   "metadata": {},
   "outputs": [],
   "source": []
  }
 ],
 "metadata": {
  "kernelspec": {
   "display_name": "Python 3",
   "language": "python",
   "name": "python3"
  },
  "language_info": {
   "codemirror_mode": {
    "name": "ipython",
    "version": 3
   },
   "file_extension": ".py",
   "mimetype": "text/x-python",
   "name": "python",
   "nbconvert_exporter": "python",
   "pygments_lexer": "ipython3",
   "version": "3.9.0"
  }
 },
 "nbformat": 4,
 "nbformat_minor": 4
}
