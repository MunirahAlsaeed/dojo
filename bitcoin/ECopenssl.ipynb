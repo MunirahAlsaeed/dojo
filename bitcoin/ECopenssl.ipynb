{
 "cells": [
  {
   "cell_type": "code",
   "execution_count": 1,
   "metadata": {},
   "outputs": [],
   "source": [
    "# A list of all available standards defined and recommended curves available in OpenSSL\n",
    "!openssl ecparam -list_curves"
   ]
  },
  {
   "cell_type": "code",
   "execution_count": 2,
   "metadata": {},
   "outputs": [],
   "source": [
    "# Generate a private key that is based on the secp256k1 curve\n",
    "!openssl ecparam -name secp256k1 -genkey -noout -out ecPrivatekey.pem"
   ]
  },
  {
   "cell_type": "code",
   "execution_count": 3,
   "metadata": {},
   "outputs": [
    {
     "name": "stdout",
     "output_type": "stream",
     "text": [
      "read EC key\n",
      "writing EC key\n"
     ]
    }
   ],
   "source": [
    "# Generate a public key from a private key (ecPrivatekey.pem)\n",
    "!openssl ec -in ecPrivatekey.pem -pubout -out ecPubkey.pem"
   ]
  },
  {
   "cell_type": "code",
   "execution_count": 4,
   "metadata": {},
   "outputs": [
    {
     "name": "stdout",
     "output_type": "stream",
     "text": [
      "-----BEGIN PUBLIC KEY-----\n",
      "MFYwEAYHKoZIzj0CAQYFK4EEAAoDQgAEXmt5GlwZt75tFHsPyLPsDafYQYpFGzHL\n",
      "TrcA15s3R8FSYxjhtj1EYpYjt38CmFcXnadV4+1p/Peu29OWPZQvDA==\n",
      "-----END PUBLIC KEY-----\n"
     ]
    }
   ],
   "source": [
    "!cat ecPubkey.pem"
   ]
  },
  {
   "cell_type": "code",
   "execution_count": 5,
   "metadata": {},
   "outputs": [],
   "source": [
    "# Generate the required parameters of secp256k1\n",
    "!openssl ecparam -name secp256k1 -out secp256k1.pem"
   ]
  },
  {
   "cell_type": "code",
   "execution_count": 6,
   "metadata": {},
   "outputs": [
    {
     "name": "stdout",
     "output_type": "stream",
     "text": [
      "Field Type: prime-field\n",
      "Prime:\n",
      "    00:ff:ff:ff:ff:ff:ff:ff:ff:ff:ff:ff:ff:ff:ff:\n",
      "    ff:ff:ff:ff:ff:ff:ff:ff:ff:ff:ff:ff:ff:fe:ff:\n",
      "    ff:fc:2f\n",
      "A:    0\n",
      "B:    7 (0x7)\n",
      "Generator (uncompressed):\n",
      "    04:79:be:66:7e:f9:dc:bb:ac:55:a0:62:95:ce:87:\n",
      "    0b:07:02:9b:fc:db:2d:ce:28:d9:59:f2:81:5b:16:\n",
      "    f8:17:98:48:3a:da:77:26:a3:c4:65:5d:a4:fb:fc:\n",
      "    0e:11:08:a8:fd:17:b4:48:a6:85:54:19:9c:47:d0:\n",
      "    8f:fb:10:d4:b8\n",
      "Order: \n",
      "    00:ff:ff:ff:ff:ff:ff:ff:ff:ff:ff:ff:ff:ff:ff:\n",
      "    ff:fe:ba:ae:dc:e6:af:48:a0:3b:bf:d2:5e:8c:d0:\n",
      "    36:41:41\n",
      "Cofactor:  1 (0x1)\n"
     ]
    }
   ],
   "source": [
    "# secp256k1 parameters\n",
    "!openssl ecparam -in secp256k1.pem -text -param_enc explicit -noout  "
   ]
  },
  {
   "cell_type": "code",
   "execution_count": null,
   "metadata": {},
   "outputs": [],
   "source": []
  }
 ],
 "metadata": {
  "kernelspec": {
   "display_name": "Python 3",
   "language": "python",
   "name": "python3"
  },
  "language_info": {
   "codemirror_mode": {
    "name": "ipython",
    "version": 3
   },
   "file_extension": ".py",
   "mimetype": "text/x-python",
   "name": "python",
   "nbconvert_exporter": "python",
   "pygments_lexer": "ipython3",
   "version": "3.9.0"
  }
 },
 "nbformat": 4,
 "nbformat_minor": 4
}
