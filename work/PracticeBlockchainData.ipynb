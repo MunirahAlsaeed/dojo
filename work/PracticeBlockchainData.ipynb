{
 "cells": [
  {
   "cell_type": "code",
   "execution_count": 1,
   "metadata": {},
   "outputs": [],
   "source": [
    "import hashlib\n",
    "import json\n",
    "from time import time\n",
    "from collections import OrderedDict"
   ]
  },
  {
   "cell_type": "code",
   "execution_count": 2,
   "metadata": {},
   "outputs": [],
   "source": [
    "def hash256(string):\n",
    "    return hashlib.sha256(string).hexdigest()\n",
    "\n",
    "def hashBlock(block):\n",
    "    hashingBlock = block.__dict__.copy()\n",
    "    hashingBlock['transactions'] = [tx.to_ordered_dict() for tx in hashingBlock['transactions']]\n",
    "    return hash256(json.dumps(hashingBlock, sort_keys=True).encode())"
   ]
  },
  {
   "cell_type": "code",
   "execution_count": 3,
   "metadata": {},
   "outputs": [],
   "source": [
    "class Printed:\n",
    "    \"\"\"A base class\"\"\"\n",
    "    def __repr__(self):\n",
    "        return str(self.__dict__)"
   ]
  },
  {
   "cell_type": "code",
   "execution_count": 4,
   "metadata": {},
   "outputs": [],
   "source": [
    "class Block(Printed):\n",
    "    def __init__(self, height, previous_hash, transactions, proof, time=time()):\n",
    "        self.height = height\n",
    "        self.previous_hash = previous_hash\n",
    "        self.timestamp = time\n",
    "        self.transactions = transactions\n",
    "        self.proof = proof"
   ]
  },
  {
   "cell_type": "code",
   "execution_count": 5,
   "metadata": {},
   "outputs": [],
   "source": [
    "class Transaction(Printed):\n",
    "    def __init__(self, sender, receiver, amount):\n",
    "        self.sender = sender\n",
    "        self.receiver = receiver\n",
    "        self.amount = amount\n",
    "\n",
    "    def to_ordered_dict(self):\n",
    "        return OrderedDict([('sender', self.sender), ('receiver', self.receiver), ('amount', self.amount)])\n"
   ]
  },
  {
   "cell_type": "code",
   "execution_count": 6,
   "metadata": {},
   "outputs": [],
   "source": [
    "tx = Transaction('xyz','tou',4)"
   ]
  },
  {
   "cell_type": "code",
   "execution_count": 7,
   "metadata": {},
   "outputs": [
    {
     "data": {
      "text/plain": [
       "{'sender': 'xyz', 'receiver': 'tou', 'amount': 4}"
      ]
     },
     "execution_count": 7,
     "metadata": {},
     "output_type": "execute_result"
    }
   ],
   "source": [
    "tx"
   ]
  },
  {
   "cell_type": "code",
   "execution_count": 8,
   "metadata": {},
   "outputs": [],
   "source": [
    "fblock = Block(0,'00',[tx],0)"
   ]
  },
  {
   "cell_type": "code",
   "execution_count": 9,
   "metadata": {},
   "outputs": [
    {
     "data": {
      "text/plain": [
       "{'height': 0, 'previous_hash': '00', 'timestamp': 1610384959.6430058, 'transactions': [{'sender': 'xyz', 'receiver': 'tou', 'amount': 4}], 'proof': 0}"
      ]
     },
     "execution_count": 9,
     "metadata": {},
     "output_type": "execute_result"
    }
   ],
   "source": [
    "fblock"
   ]
  },
  {
   "cell_type": "code",
   "execution_count": 10,
   "metadata": {},
   "outputs": [],
   "source": [
    "\n",
    "class Blockchain:\n",
    "    \"\"\"Manages the chain of blocks as well as transactions.\"\"\"\n",
    "\n",
    "    def __init__(self):\n",
    "        \"\"\"The constructor of the Blockchain class.\"\"\"\n",
    "\n",
    "        genesisBlock = Block(0, '', [], 0, 0)\n",
    "        self.chain = [genesisBlock]\n",
    "        self.transactions = []\n",
    "\n",
    "    def getLastBlockInChain(self):\n",
    "        \"\"\" Returns the last block. \"\"\"\n",
    "        if len(self.chain) < 1:\n",
    "            return None\n",
    "        return self.chain[-1]\n",
    "\n",
    "    def addTransaction(self, sender, receiver, amount=0.9):\n",
    "        \"\"\" Append a new transactions\"\"\"\n",
    "\n",
    "    def addBlock(self, block):\n",
    "        \"\"\"Add a new block \"\"\"\n",
    "        # add your code here\n",
    "    \n",
    "    def getBlock(self, block):\n",
    "        \"\"\"Get a block by index\"\"\"\n",
    "        # add your code here\n",
    "\n",
    "   "
   ]
  },
  {
   "cell_type": "code",
   "execution_count": null,
   "metadata": {},
   "outputs": [],
   "source": []
  }
 ],
 "metadata": {
  "kernelspec": {
   "display_name": "Python 3",
   "language": "python",
   "name": "python3"
  },
  "language_info": {
   "codemirror_mode": {
    "name": "ipython",
    "version": 3
   },
   "file_extension": ".py",
   "mimetype": "text/x-python",
   "name": "python",
   "nbconvert_exporter": "python",
   "pygments_lexer": "ipython3",
   "version": "3.9.1"
  }
 },
 "nbformat": 4,
 "nbformat_minor": 4
}
