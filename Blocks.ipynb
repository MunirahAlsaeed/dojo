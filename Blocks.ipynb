{
 "cells": [
  {
   "cell_type": "code",
   "execution_count": 1,
   "metadata": {},
   "outputs": [],
   "source": [
    "from hashlib import sha256\n",
    "from time import time\n",
    "import json\n",
    "\n",
    "class Block:\n",
    "    def __init__(self, index, previousHash, transactions, timestamp=time() ):\n",
    "        self.index = index\n",
    "        self.previousHash = previousHash\n",
    "        self.transactions = transactions\n",
    "        self.timestamp = timestamp\n",
    "\n",
    "    def hashBlock(self):\n",
    "        blockToHash = json.dumps(self.__dict__, sort_keys=True)\n",
    "        return( sha256(blockToHash.encode()).hexdigest())"
   ]
  },
  {
   "cell_type": "code",
   "execution_count": 2,
   "metadata": {},
   "outputs": [],
   "source": [
    "firstBlock= Block(0, \"0\",[\"Tx1\",\"Tx2\"])"
   ]
  },
  {
   "cell_type": "code",
   "execution_count": 3,
   "metadata": {},
   "outputs": [
    {
     "data": {
      "text/plain": [
       "'1fcbe3c1e9ecaea56c86cc8e0eacfa8ea72cdf4e097e6ebd2118b582a44af85e'"
      ]
     },
     "execution_count": 3,
     "metadata": {},
     "output_type": "execute_result"
    }
   ],
   "source": [
    "firstBlock.hashBlock()"
   ]
  },
  {
   "cell_type": "code",
   "execution_count": 4,
   "metadata": {},
   "outputs": [],
   "source": [
    "firstBlock.hash = firstBlock.hashBlock()"
   ]
  },
  {
   "cell_type": "code",
   "execution_count": 5,
   "metadata": {},
   "outputs": [],
   "source": [
    "secondBlock= Block(2, firstBlock.hash,[\"Tx1\",\"Tx2\",\"Tx3\"])"
   ]
  },
  {
   "cell_type": "code",
   "execution_count": 6,
   "metadata": {},
   "outputs": [],
   "source": [
    "secondBlock.hash = secondBlock.hashBlock()"
   ]
  },
  {
   "cell_type": "code",
   "execution_count": 7,
   "metadata": {},
   "outputs": [
    {
     "data": {
      "text/plain": [
       "{'index': 0,\n",
       " 'previousHash': '0',\n",
       " 'transactions': ['Tx1', 'Tx2'],\n",
       " 'timestamp': 1609442608.878678,\n",
       " 'hash': '1fcbe3c1e9ecaea56c86cc8e0eacfa8ea72cdf4e097e6ebd2118b582a44af85e'}"
      ]
     },
     "execution_count": 7,
     "metadata": {},
     "output_type": "execute_result"
    }
   ],
   "source": [
    "firstBlock.__dict__.copy()"
   ]
  },
  {
   "cell_type": "code",
   "execution_count": 8,
   "metadata": {},
   "outputs": [
    {
     "data": {
      "text/plain": [
       "{'index': 2,\n",
       " 'previousHash': '1fcbe3c1e9ecaea56c86cc8e0eacfa8ea72cdf4e097e6ebd2118b582a44af85e',\n",
       " 'transactions': ['Tx1', 'Tx2', 'Tx3'],\n",
       " 'timestamp': 1609442608.878678,\n",
       " 'hash': '03d69490f4bfec3eff5fee3dafc043176c8d953218fbc21fb606d2ed9f32fb0d'}"
      ]
     },
     "execution_count": 8,
     "metadata": {},
     "output_type": "execute_result"
    }
   ],
   "source": [
    "secondBlock.__dict__.copy()"
   ]
  },
  {
   "cell_type": "code",
   "execution_count": null,
   "metadata": {},
   "outputs": [],
   "source": []
  }
 ],
 "metadata": {
  "kernelspec": {
   "display_name": "Python 3",
   "language": "python",
   "name": "python3"
  },
  "language_info": {
   "codemirror_mode": {
    "name": "ipython",
    "version": 3
   },
   "file_extension": ".py",
   "mimetype": "text/x-python",
   "name": "python",
   "nbconvert_exporter": "python",
   "pygments_lexer": "ipython3",
   "version": "3.9.0"
  }
 },
 "nbformat": 4,
 "nbformat_minor": 4
}
