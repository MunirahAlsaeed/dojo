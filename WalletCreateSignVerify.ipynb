{
 "cells": [
  {
   "cell_type": "code",
   "execution_count": null,
   "metadata": {},
   "outputs": [],
   "source": [
    "'''\n",
    "make sure you installed virtualenv\n",
    "$ pip3 install virtualenv\n",
    "$ virtualenv virtualenv_name\n",
    "$ source /virtualenv_name/bin/activate\n",
    "\n",
    "'''"
   ]
  },
  {
   "cell_type": "code",
   "execution_count": null,
   "metadata": {},
   "outputs": [],
   "source": [
    "# to test the execute: the path of python pointed to virtualenv in the bin \n",
    "!which python3"
   ]
  },
  {
   "cell_type": "code",
   "execution_count": null,
   "metadata": {},
   "outputs": [],
   "source": [
    "# install packages: \n",
    "# https://pycryptodome.readthedocs.io/en/latest/src/installation.html\n",
    "import sys\n",
    "!{sys.executable} -m pip install pycryptodome"
   ]
  },
  {
   "cell_type": "code",
   "execution_count": 10,
   "metadata": {},
   "outputs": [],
   "source": [
    "from Crypto.PublicKey import RSA\n",
    "from Crypto.Hash import SHA256\n",
    "import Crypto.Random\n",
    "import binascii\n",
    "import requests\n",
    "\n",
    "\n",
    "class Wallet:\n",
    "    def __init__(self):\n",
    "        self.privateKey = None\n",
    "        self.publicKey = None\n",
    "    \n",
    "    def generatekey(self):\n",
    "        ''' Generate keys '''\n",
    "        rng = Crypto.Random.new().read\n",
    "        privateKey = RSA.generate(1024, rng)\n",
    "        publicKey = privateKey.publickey()\n",
    "        return (binascii.hexlify(privateKey.exportKey(format='DER')).decode('ascii'),\n",
    "                  binascii.hexlify(publicKey.exportKey(format='DER')).decode('ascii'))\n",
    "\n",
    "    def createKey(self):\n",
    "        '''Create key '''\n",
    "        privateKey, publicKey = self.generatekey()\n",
    "        self.privateKey = privateKey\n",
    "        self.publicKey = publicKey\n",
    "        wallet = {}\n",
    "        wallet['publicKey'] = self.publicKey\n",
    "        wallet['privateKey'] = self.privateKey\n",
    "        return wallet\n"
   ]
  },
  {
   "cell_type": "code",
   "execution_count": 11,
   "metadata": {},
   "outputs": [],
   "source": [
    "myWallet = Wallet()"
   ]
  },
  {
   "cell_type": "code",
   "execution_count": 8,
   "metadata": {},
   "outputs": [
    {
     "data": {
      "text/plain": [
       "{'publicKey': '30819f300d06092a864886f70d010101050003818d00308189028181009597ec357652437769b951158c5c54f807b9b36769bc41f7780e100f6c4cc861b8773da4ec41605bfe0403e5398628e0ac9662c3886fff44fcfbeb158ce16eb5c831e7a26c5af561329254c20d63e5f84bf7205878cde14b5e0c26ee2121ba10518565962aead77efbbd8cec7cba87ec7ea0fbef0cf8c4a518e3ebedf071a7e10203010001',\n",
       " 'privateKey': '3082025d020100028181009597ec357652437769b951158c5c54f807b9b36769bc41f7780e100f6c4cc861b8773da4ec41605bfe0403e5398628e0ac9662c3886fff44fcfbeb158ce16eb5c831e7a26c5af561329254c20d63e5f84bf7205878cde14b5e0c26ee2121ba10518565962aead77efbbd8cec7cba87ec7ea0fbef0cf8c4a518e3ebedf071a7e102030100010281800baadb3dfa3a0550117b6633178cf6059858a800f752bb146995333478be6e5c8cce240d326e10ed6bdcf54ed2134029f1dc12dcec4dcbeb9e0da9f2b6d7b8522fb86c089fc655d2a737ee347f6fce59757ded9639929ab9ecd9b1c81c41b46ac81c0678cf8cc0c2db1dbf8beb4b785365bcd559e8daa0ed7bd38ef1ca36825f024100ba53bd503227287caada281cd93b41cac0166a27b22243631299f89bd465711a81219686cf08f18ba4a505f4483590703750498afd2eb545ff2246a80e313ea7024100cd87d594056aafc519d5338f75e717db515c7cfce82f3ed2b47d4af42aa35c248a4ee5213ccd794a2a5dc8b8683c5d7c869bd79729479ab8e3104337c0a17e370241009d254d105b0c2d985f5c58e263d01760117b96125ea9891e00ad3d40e7f49a5c993623c714cbdd34422b300763f3511b637b625b47c761f964019b87d7586f17024071450909d8aa615048da5cde15665499840f6aba9ee35ac618be6c4e802923a0e7b06f4a900dd568704cdb4ff5f23ebb601c0706c1b33aabe6479223e9bf96a5024100961d1b2d51e0e882d466f8e95bdbe8ff2a636bb5b3af38bdc41721e68dfeca30877a41090a58fd6d51c4eee5b914fe6c2e8960cdb86eac1aa754fdf7609dbc6f'}"
      ]
     },
     "execution_count": 8,
     "metadata": {},
     "output_type": "execute_result"
    }
   ],
   "source": [
    "myWallet.createKey()"
   ]
  },
  {
   "cell_type": "code",
   "execution_count": 12,
   "metadata": {},
   "outputs": [],
   "source": [
    "'''\n",
    "Generate a public key and private key \n",
    "'''"
   ]
  },
  {
   "cell_type": "code",
   "execution_count": null,
   "metadata": {},
   "outputs": [],
   "source": [
    "pub = '30819f300d06092a864886f70d010101050003818d00308189028181009597ec357652437769b951158c5c54f807b9b36769bc41f7780e100f6c4cc861b8773da4ec41605bfe0403e5398628e0ac9662c3886fff44fcfbeb158ce16eb5c831e7a26c5af561329254c20d63e5f84bf7205878cde14b5e0c26ee2121ba10518565962aead77efbbd8cec7cba87ec7ea0fbef0cf8c4a518e3ebedf071a7e10203010001'\n",
    "privateKey = '3082025d020100028181009597ec357652437769b951158c5c54f807b9b36769bc41f7780e100f6c4cc861b8773da4ec41605bfe0403e5398628e0ac9662c3886fff44fcfbeb158ce16eb5c831e7a26c5af561329254c20d63e5f84bf7205878cde14b5e0c26ee2121ba10518565962aead77efbbd8cec7cba87ec7ea0fbef0cf8c4a518e3ebedf071a7e102030100010281800baadb3dfa3a0550117b6633178cf6059858a800f752bb146995333478be6e5c8cce240d326e10ed6bdcf54ed2134029f1dc12dcec4dcbeb9e0da9f2b6d7b8522fb86c089fc655d2a737ee347f6fce59757ded9639929ab9ecd9b1c81c41b46ac81c0678cf8cc0c2db1dbf8beb4b785365bcd559e8daa0ed7bd38ef1ca36825f024100ba53bd503227287caada281cd93b41cac0166a27b22243631299f89bd465711a81219686cf08f18ba4a505f4483590703750498afd2eb545ff2246a80e313ea7024100cd87d594056aafc519d5338f75e717db515c7cfce82f3ed2b47d4af42aa35c248a4ee5213ccd794a2a5dc8b8683c5d7c869bd79729479ab8e3104337c0a17e370241009d254d105b0c2d985f5c58e263d01760117b96125ea9891e00ad3d40e7f49a5c993623c714cbdd34422b300763f3511b637b625b47c761f964019b87d7586f17024071450909d8aa615048da5cde15665499840f6aba9ee35ac618be6c4e802923a0e7b06f4a900dd568704cdb4ff5f23ebb601c0706c1b33aabe6479223e9bf96a5024100961d1b2d51e0e882d466f8e95bdbe8ff2a636bb5b3af38bdc41721e68dfeca30877a41090a58fd6d51c4eee5b914fe6c2e8960cdb86eac1aa754fdf7609dbc6f'"
   ]
  },
  {
   "cell_type": "code",
   "execution_count": null,
   "metadata": {},
   "outputs": [],
   "source": [
    "from Crypto.Signature import PKCS1_v1_5\n",
    "\n",
    "def signTransaction(sender, receiver, amount):\n",
    "        \"\"\" Sender signs a transaction with a private key \"\"\"\n",
    "        signer = PKCS1_v1_5.new(RSA.importKey(binascii.unhexlify(privateKey)))\n",
    "        h = SHA256.new((str(sender) + str(receiver) + str(amount)).encode('utf8'))\n",
    "        signature = signer.sign(h)\n",
    "        return (binascii.hexlify(signature).decode('ascii'))"
   ]
  },
  {
   "cell_type": "code",
   "execution_count": 13,
   "metadata": {},
   "outputs": [],
   "source": [
    "'''\n",
    "Sign with a private key\n",
    "'''"
   ]
  },
  {
   "cell_type": "code",
   "execution_count": 14,
   "metadata": {},
   "outputs": [
    {
     "data": {
      "text/plain": [
       "'058ee3c7c65ecb5535dd189eef043183fb4206c51c551119d6d02735f518dc2a5c983220144edd06c03f460315cbd59fde90c2465baf7c27321342a5327bbb7d0d3e3605f7f6a2da5f437e701383dab396d4115bc793a52bbf89ac949f3947660f9c9463c0c1c61f62646eefba82436c9d2d078649178ee3e0f907bfc3214c8a'"
      ]
     },
     "execution_count": 14,
     "metadata": {},
     "output_type": "execute_result"
    }
   ],
   "source": [
    "signTransaction(pub, 'any', 3)"
   ]
  },
  {
   "cell_type": "code",
   "execution_count": 16,
   "metadata": {},
   "outputs": [],
   "source": [
    "signature = '058ee3c7c65ecb5535dd189eef043183fb4206c51c551119d6d02735f518dc2a5c983220144edd06c03f460315cbd59fde90c2465baf7c27321342a5327bbb7d0d3e3605f7f6a2da5f437e701383dab396d4115bc793a52bbf89ac949f3947660f9c9463c0c1c61f62646eefba82436c9d2d078649178ee3e0f907bfc3214c8a'"
   ]
  },
  {
   "cell_type": "code",
   "execution_count": 19,
   "metadata": {},
   "outputs": [],
   "source": [
    "def verifyTransactions(sender, receiver, amount):\n",
    "    \"\"\" verify a transaction, \"\"\"\n",
    "    publicKey = RSA.importKey(binascii.unhexlify(sender))\n",
    "    verifier = PKCS1_v1_5.new(publicKey)\n",
    "    h = SHA256.new((str(sender) + str(receiver) + str(amount)).encode('utf8'))\n",
    "    if verifier.verify(h, binascii.unhexlify(signature)) != True:\n",
    "        print ('False')\n",
    "    else:\n",
    "        print('True')"
   ]
  },
  {
   "cell_type": "code",
   "execution_count": 21,
   "metadata": {},
   "outputs": [
    {
     "name": "stdout",
     "output_type": "stream",
     "text": [
      "False\n"
     ]
    }
   ],
   "source": [
    "verifyTransactions(pub, '', 3)"
   ]
  },
  {
   "cell_type": "code",
   "execution_count": 22,
   "metadata": {},
   "outputs": [
    {
     "name": "stdout",
     "output_type": "stream",
     "text": [
      "True\n"
     ]
    }
   ],
   "source": [
    "verifyTransactions(pub, 'any', 3)"
   ]
  },
  {
   "cell_type": "code",
   "execution_count": null,
   "metadata": {},
   "outputs": [],
   "source": []
  }
 ],
 "metadata": {
  "kernelspec": {
   "display_name": "Python 3",
   "language": "python",
   "name": "python3"
  },
  "language_info": {
   "codemirror_mode": {
    "name": "ipython",
    "version": 3
   },
   "file_extension": ".py",
   "mimetype": "text/x-python",
   "name": "python",
   "nbconvert_exporter": "python",
   "pygments_lexer": "ipython3",
   "version": "3.9.0"
  }
 },
 "nbformat": 4,
 "nbformat_minor": 4
}
